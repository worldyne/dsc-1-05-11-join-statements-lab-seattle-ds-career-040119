{
 "cells": [
  {
   "cell_type": "markdown",
   "metadata": {},
   "source": [
    "# Join Statements - Lab\n",
    "\n",
    "## Introduction\n",
    "\n",
    "In this lab, you'll practice your knowledge on Join statements.\n",
    "\n",
    "## Objectives\n",
    "\n",
    "You will be able to:\n",
    "- Write queries that make use of various types of Joins\n",
    "- Join tables using foreign keys"
   ]
  },
  {
   "cell_type": "markdown",
   "metadata": {},
   "source": [
    "## CRM Schema\n",
    "\n",
    "In almost all cases, rather then just working with a single table we will typically need data from multiple tables. \n",
    "Doing this requires the use of **joins ** using shared columns from the two tables. \n",
    "\n",
    "In this lab, we'll use the same Customer Relationship Management (CRM) database we used in our lecture before!\n",
    "<img src='Database-Schema.png' width=550>"
   ]
  },
  {
   "cell_type": "markdown",
   "metadata": {},
   "source": [
    "## Connecting to the Database\n",
    "Import the necessary packages and connect to the database **data.sqlite**."
   ]
  },
  {
   "cell_type": "code",
   "execution_count": 1,
   "metadata": {},
   "outputs": [],
   "source": [
    "#Your code here\n",
    "import sqlite3\n",
    "connection = sqlite3.connect('data.sqlite')\n",
    "cursor = connection.cursor()"
   ]
  },
  {
   "cell_type": "markdown",
   "metadata": {},
   "source": [
    "## Display the names of all the employees in Boston."
   ]
  },
  {
   "cell_type": "code",
   "execution_count": 2,
   "metadata": {},
   "outputs": [
    {
     "data": {
      "text/plain": [
       "[('Diane', 'Murphy'),\n",
       " ('Mary', 'Patterson'),\n",
       " ('Jeff', 'Firrelli'),\n",
       " ('William', 'Patterson'),\n",
       " ('Gerard', 'Bondur'),\n",
       " ('Anthony', 'Bow'),\n",
       " ('Leslie', 'Jennings'),\n",
       " ('Leslie', 'Thompson'),\n",
       " ('Julie', 'Firrelli'),\n",
       " ('Steve', 'Patterson'),\n",
       " ('Foon Yue', 'Tseng'),\n",
       " ('George', 'Vanauf'),\n",
       " ('Loui', 'Bondur'),\n",
       " ('Gerard', 'Hernandez'),\n",
       " ('Pamela', 'Castillo'),\n",
       " ('Larry', 'Bott'),\n",
       " ('Barry', 'Jones'),\n",
       " ('Andy', 'Fixter'),\n",
       " ('Peter', 'Marsh'),\n",
       " ('Tom', 'King'),\n",
       " ('Mami', 'Nishi'),\n",
       " ('Yoshimi', 'Kato'),\n",
       " ('Martin', 'Gerard')]"
      ]
     },
     "execution_count": 2,
     "metadata": {},
     "output_type": "execute_result"
    }
   ],
   "source": [
    "#Your code here\n",
    "cursor.execute('''SELECT firstName, lastName FROM employees''').fetchall()"
   ]
  },
  {
   "cell_type": "markdown",
   "metadata": {},
   "source": [
    "## Do any offices have no employees?"
   ]
  },
  {
   "cell_type": "code",
   "execution_count": 3,
   "metadata": {},
   "outputs": [
    {
     "ename": "OperationalError",
     "evalue": "ambiguous column name: officeCode",
     "output_type": "error",
     "traceback": [
      "\u001b[0;31m\u001b[0m",
      "\u001b[0;31mOperationalError\u001b[0mTraceback (most recent call last)",
      "\u001b[0;32m<ipython-input-3-0b83d3e9c0e5>\u001b[0m in \u001b[0;36m<module>\u001b[0;34m()\u001b[0m\n\u001b[1;32m      1\u001b[0m \u001b[0;31m#Your code here\u001b[0m\u001b[0;34m\u001b[0m\u001b[0;34m\u001b[0m\u001b[0m\n\u001b[0;32m----> 2\u001b[0;31m \u001b[0mcursor\u001b[0m\u001b[0;34m.\u001b[0m\u001b[0mexecute\u001b[0m\u001b[0;34m(\u001b[0m\u001b[0;34m'''SELECT * FROM employees JOIN offices ON officeCode'''\u001b[0m\u001b[0;34m)\u001b[0m\u001b[0;34m.\u001b[0m\u001b[0mfetchall\u001b[0m\u001b[0;34m(\u001b[0m\u001b[0;34m)\u001b[0m\u001b[0;34m\u001b[0m\u001b[0m\n\u001b[0m",
      "\u001b[0;31mOperationalError\u001b[0m: ambiguous column name: officeCode"
     ]
    }
   ],
   "source": [
    "#Your code here\n",
    "cursor.execute('''SELECT * FROM employees JOIN offices ON empofficeCode''').fetchall()"
   ]
  },
  {
   "cell_type": "markdown",
   "metadata": {},
   "source": [
    "## Write 3 Questions of your own and answer them"
   ]
  },
  {
   "cell_type": "code",
   "execution_count": null,
   "metadata": {},
   "outputs": [],
   "source": [
    "# Answers will vary"
   ]
  },
  {
   "cell_type": "code",
   "execution_count": null,
   "metadata": {},
   "outputs": [],
   "source": [
    "# Your code here"
   ]
  },
  {
   "cell_type": "code",
   "execution_count": null,
   "metadata": {},
   "outputs": [],
   "source": [
    "# Your code here"
   ]
  },
  {
   "cell_type": "code",
   "execution_count": null,
   "metadata": {},
   "outputs": [],
   "source": [
    "# Your code here"
   ]
  },
  {
   "cell_type": "markdown",
   "metadata": {},
   "source": [
    "## Level Up: Display the names of each product each employee has sold."
   ]
  },
  {
   "cell_type": "code",
   "execution_count": null,
   "metadata": {},
   "outputs": [],
   "source": [
    "# Your code here"
   ]
  },
  {
   "cell_type": "markdown",
   "metadata": {},
   "source": [
    "## Level Up: Display the Number of Products each Employee Has sold"
   ]
  },
  {
   "cell_type": "code",
   "execution_count": null,
   "metadata": {},
   "outputs": [],
   "source": [
    "#Your code here"
   ]
  },
  {
   "cell_type": "markdown",
   "metadata": {},
   "source": [
    "## Summary"
   ]
  },
  {
   "cell_type": "markdown",
   "metadata": {},
   "source": [
    "Congrats! You now know how to use Join statements, along with leveraging your foreign keys knowledge!"
   ]
  }
 ],
 "metadata": {
  "kernelspec": {
   "display_name": "Python 3",
   "language": "python",
   "name": "python3"
  },
  "language_info": {
   "codemirror_mode": {
    "name": "ipython",
    "version": 3
   },
   "file_extension": ".py",
   "mimetype": "text/x-python",
   "name": "python",
   "nbconvert_exporter": "python",
   "pygments_lexer": "ipython3",
   "version": "3.6.6"
  }
 },
 "nbformat": 4,
 "nbformat_minor": 2
}
