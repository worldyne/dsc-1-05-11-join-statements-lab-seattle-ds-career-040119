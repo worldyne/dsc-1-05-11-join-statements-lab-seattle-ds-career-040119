{
 "cells": [
  {
   "cell_type": "markdown",
   "metadata": {},
   "source": [
    "# Join Statements - Lab\n",
    "\n",
    "## Introduction\n",
    "\n",
    "In this lab, you'll practice your knowledge on Join statements.\n",
    "\n",
    "## Objectives\n",
    "\n",
    "You will be able to:\n",
    "- Write queries that make use of various types of Joins\n",
    "- Join tables using foreign keys"
   ]
  },
  {
   "cell_type": "markdown",
   "metadata": {},
   "source": [
    "## CRM Schema\n",
    "\n",
    "In almost all cases, rather then just working with a single table we will typically need data from multiple tables. \n",
    "Doing this requires the use of **joins ** using shared columns from the two tables. \n",
    "\n",
    "In this lab, we'll use the same Customer Relationship Management (CRM) database we used in our lecture before!\n",
    "<img src='Database-Schema.png' width=550>"
   ]
  },
  {
   "cell_type": "markdown",
   "metadata": {},
   "source": [
    "## Connecting to the Database\n",
    "Import the necessary packages and connect to the database **data.sqlite**."
   ]
  },
  {
   "cell_type": "code",
   "execution_count": 1,
   "metadata": {},
   "outputs": [],
   "source": [
    "#Your code here\n",
    "import sqlite3\n",
    "connection = sqlite3.connect('data.sqlite')\n",
    "cursor = connection.cursor()"
   ]
  },
  {
   "cell_type": "markdown",
   "metadata": {},
   "source": [
    "## Display the names of all the employees in Boston."
   ]
  },
  {
   "cell_type": "code",
   "execution_count": 10,
   "metadata": {},
   "outputs": [
    {
     "data": {
      "text/plain": [
       "[('Julie', 'Firrelli'), ('Steve', 'Patterson')]"
      ]
     },
     "execution_count": 10,
     "metadata": {},
     "output_type": "execute_result"
    }
   ],
   "source": [
    "#Your code here\n",
    "cursor.execute('''\n",
    "                SELECT \n",
    "                    firstName, lastName \n",
    "                FROM employees \n",
    "                JOIN offices \n",
    "                ON employees.officeCode = offices.officeCode \n",
    "                WHERE offices.city = \"Boston\"'''\n",
    "              ).fetchall()"
   ]
  },
  {
   "cell_type": "markdown",
   "metadata": {},
   "source": [
    "## Do any offices have no employees?"
   ]
  },
  {
   "cell_type": "code",
   "execution_count": 14,
   "metadata": {},
   "outputs": [
    {
     "data": {
      "text/plain": [
       "[('Boston', 2),\n",
       " ('London', 2),\n",
       " ('NYC', 2),\n",
       " ('Paris', 5),\n",
       " ('San Francisco', 6),\n",
       " ('Sydney', 4),\n",
       " ('Tokyo', 2)]"
      ]
     },
     "execution_count": 14,
     "metadata": {},
     "output_type": "execute_result"
    }
   ],
   "source": [
    "cursor.execute('''\n",
    "                SELECT\n",
    "                    city, COUNT(*)\n",
    "                FROM offices \n",
    "                JOIN employees\n",
    "                USING (officeCode)\n",
    "                GROUP BY 1;''').fetchall()"
   ]
  },
  {
   "cell_type": "markdown",
   "metadata": {},
   "source": [
    "## Write 3 Questions of your own and answer them"
   ]
  },
  {
   "cell_type": "code",
   "execution_count": null,
   "metadata": {},
   "outputs": [],
   "source": [
    "# Answers will vary"
   ]
  },
  {
   "cell_type": "code",
   "execution_count": 18,
   "metadata": {},
   "outputs": [
    {
     "data": {
      "text/plain": [
       "[('Andy', 'Fixter', 5),\n",
       " ('Barry', 'Jones', 9),\n",
       " ('Foon Yue', 'Tseng', 7),\n",
       " ('George', 'Vanauf', 8),\n",
       " ('Gerard', 'Hernandez', 7),\n",
       " ('Julie', 'Firrelli', 6),\n",
       " ('Larry', 'Bott', 8),\n",
       " ('Leslie', 'Thompson', 12),\n",
       " ('Loui', 'Bondur', 6),\n",
       " ('Mami', 'Nishi', 5),\n",
       " ('Martin', 'Gerard', 6),\n",
       " ('Pamela', 'Castillo', 10),\n",
       " ('Peter', 'Marsh', 5),\n",
       " ('Steve', 'Patterson', 6)]"
      ]
     },
     "execution_count": 18,
     "metadata": {},
     "output_type": "execute_result"
    }
   ],
   "source": [
    "# Your code here\n",
    "#How many customers per employee?\n",
    "cursor.execute('''\n",
    "                SELECT\n",
    "                    firstName, lastName, count(*)\n",
    "                FROM\n",
    "                    employees\n",
    "                JOIN\n",
    "                    customers\n",
    "                ON employees.employeeNumber = salesRepEmployeeNumber\n",
    "                GROUP BY 1''').fetchall()"
   ]
  },
  {
   "cell_type": "code",
   "execution_count": 25,
   "metadata": {},
   "outputs": [
    {
     "data": {
      "text/plain": [
       "[('Mini Gifts Distributors Ltd.', 17), ('Euro+ Shopping Channel', 26)]"
      ]
     },
     "execution_count": 25,
     "metadata": {},
     "output_type": "execute_result"
    }
   ],
   "source": [
    "# Your code here\n",
    "#How many customers ordered more than 5 orders?\n",
    "cursor.execute('''\n",
    "                SELECT customerName, count(*)\n",
    "                FROM customers\n",
    "                JOIN orders\n",
    "                ON customers.customerNumber = orders.customerNumber\n",
    "                GROUP BY customers.customerNumber HAVING COUNT(*) > 5''').fetchall()"
   ]
  },
  {
   "cell_type": "code",
   "execution_count": 26,
   "metadata": {},
   "outputs": [
    {
     "ename": "OperationalError",
     "evalue": "no such column: productName",
     "output_type": "error",
     "traceback": [
      "\u001b[0;31m\u001b[0m",
      "\u001b[0;31mOperationalError\u001b[0mTraceback (most recent call last)",
      "\u001b[0;32m<ipython-input-26-6a22550c1a66>\u001b[0m in \u001b[0;36m<module>\u001b[0;34m()\u001b[0m\n\u001b[1;32m      3\u001b[0m cursor.execute('''\n\u001b[1;32m      4\u001b[0m                 \u001b[0mSELECT\u001b[0m \u001b[0mproductName\u001b[0m\u001b[0;34m,\u001b[0m \u001b[0mcount\u001b[0m\u001b[0;34m(\u001b[0m\u001b[0;34m*\u001b[0m\u001b[0;34m)\u001b[0m\u001b[0;34m\u001b[0m\u001b[0m\n\u001b[0;32m----> 5\u001b[0;31m                 F''')\n\u001b[0m",
      "\u001b[0;31mOperationalError\u001b[0m: no such column: productName"
     ]
    }
   ],
   "source": [
    "# Your code here\n",
    "#Number of product lines in products\n",
    "cursor.execute('''\n",
    "                SELECT productName, count(*)\n",
    "                FROM products\n",
    "                JOIN productlines\n",
    "                ON ''')"
   ]
  },
  {
   "cell_type": "markdown",
   "metadata": {},
   "source": [
    "## Level Up: Display the names of each product each employee has sold."
   ]
  },
  {
   "cell_type": "code",
   "execution_count": null,
   "metadata": {},
   "outputs": [],
   "source": [
    "# Your code here\n"
   ]
  },
  {
   "cell_type": "markdown",
   "metadata": {},
   "source": [
    "## Level Up: Display the Number of Products each Employee Has sold"
   ]
  },
  {
   "cell_type": "code",
   "execution_count": null,
   "metadata": {},
   "outputs": [],
   "source": [
    "#Your code here"
   ]
  },
  {
   "cell_type": "markdown",
   "metadata": {},
   "source": [
    "## Summary"
   ]
  },
  {
   "cell_type": "markdown",
   "metadata": {},
   "source": [
    "Congrats! You now know how to use Join statements, along with leveraging your foreign keys knowledge!"
   ]
  }
 ],
 "metadata": {
  "kernelspec": {
   "display_name": "Python 3",
   "language": "python",
   "name": "python3"
  },
  "language_info": {
   "codemirror_mode": {
    "name": "ipython",
    "version": 3
   },
   "file_extension": ".py",
   "mimetype": "text/x-python",
   "name": "python",
   "nbconvert_exporter": "python",
   "pygments_lexer": "ipython3",
   "version": "3.6.6"
  }
 },
 "nbformat": 4,
 "nbformat_minor": 2
}
