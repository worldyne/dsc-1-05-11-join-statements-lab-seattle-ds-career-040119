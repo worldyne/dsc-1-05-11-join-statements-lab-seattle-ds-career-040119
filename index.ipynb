{
 "cells": [
  {
   "cell_type": "markdown",
   "metadata": {},
   "source": [
    "# Join Statements - Lab\n",
    "\n",
    "## Introduction\n",
    "\n",
    "In this lab, you'll practice your knowledge on Join statements.\n",
    "\n",
    "## Objectives\n",
    "\n",
    "You will be able to:\n",
    "- Write queries that make use of various types of Joins\n",
    "- Join tables using foreign keys"
   ]
  },
  {
   "cell_type": "markdown",
   "metadata": {},
   "source": [
    "## CRM Schema\n",
    "\n",
    "In almost all cases, rather then just working with a single table we will typically need data from multiple tables. \n",
    "Doing this requires the use of **joins ** using shared columns from the two tables. \n",
    "\n",
    "In this lab, we'll use the same Customer Relationship Management (CRM) database we used in our lecture before!\n",
    "<img src='Database-Schema.png' width=550>"
   ]
  },
  {
   "cell_type": "markdown",
   "metadata": {},
   "source": [
    "## Connecting to the Database\n",
    "Import the necessary packages and connect to the database **data.sqlite**."
   ]
  },
  {
   "cell_type": "code",
   "execution_count": 1,
   "metadata": {},
   "outputs": [],
   "source": [
    "#Your code here\n",
    "import sqlite3\n",
    "connection = sqlite3.connect('data.sqlite')\n",
    "cursor = connection.cursor()"
   ]
  },
  {
   "cell_type": "markdown",
   "metadata": {},
   "source": [
    "## Display the names of all the employees in Boston."
   ]
  },
  {
   "cell_type": "code",
   "execution_count": 10,
   "metadata": {},
   "outputs": [
    {
     "data": {
      "text/plain": [
       "[('Julie', 'Firrelli'), ('Steve', 'Patterson')]"
      ]
     },
     "execution_count": 10,
     "metadata": {},
     "output_type": "execute_result"
    }
   ],
   "source": [
    "#Your code here\n",
    "cursor.execute('''\n",
    "                SELECT \n",
    "                    firstName, lastName \n",
    "                FROM employees \n",
    "                JOIN offices \n",
    "                ON employees.officeCode = offices.officeCode \n",
    "                WHERE offices.city = \"Boston\"'''\n",
    "              ).fetchall()"
   ]
  },
  {
   "cell_type": "markdown",
   "metadata": {},
   "source": [
    "## Do any offices have no employees?"
   ]
  },
  {
   "cell_type": "code",
   "execution_count": 11,
   "metadata": {},
   "outputs": [
    {
     "ename": "OperationalError",
     "evalue": "near \"officeCode\": syntax error",
     "output_type": "error",
     "traceback": [
      "\u001b[0;31m\u001b[0m",
      "\u001b[0;31mOperationalError\u001b[0mTraceback (most recent call last)",
      "\u001b[0;32m<ipython-input-11-7df67a8fcd02>\u001b[0m in \u001b[0;36m<module>\u001b[0;34m()\u001b[0m\n\u001b[1;32m      5\u001b[0m                 \u001b[0mJOIN\u001b[0m \u001b[0memployees\u001b[0m\u001b[0;34m\u001b[0m\u001b[0m\n\u001b[1;32m      6\u001b[0m                 \u001b[0mUSING\u001b[0m \u001b[0mofficeCode\u001b[0m\u001b[0;34m\u001b[0m\u001b[0m\n\u001b[0;32m----> 7\u001b[0;31m                 G''')\n\u001b[0m",
      "\u001b[0;31mOperationalError\u001b[0m: near \"officeCode\": syntax error"
     ]
    }
   ],
   "source": [
    "cursor.execute('''\n",
    "                SELECT\n",
    "                    city, COUNT(*)\n",
    "                FROM offices \n",
    "                JOIN employees\n",
    "                USING officeCode\n",
    "                GROUP BY 1;''').fetcha"
   ]
  },
  {
   "cell_type": "markdown",
   "metadata": {},
   "source": [
    "## Write 3 Questions of your own and answer them"
   ]
  },
  {
   "cell_type": "code",
   "execution_count": null,
   "metadata": {},
   "outputs": [],
   "source": [
    "# Answers will vary"
   ]
  },
  {
   "cell_type": "code",
   "execution_count": null,
   "metadata": {},
   "outputs": [],
   "source": [
    "# Your code here"
   ]
  },
  {
   "cell_type": "code",
   "execution_count": null,
   "metadata": {},
   "outputs": [],
   "source": [
    "# Your code here"
   ]
  },
  {
   "cell_type": "code",
   "execution_count": null,
   "metadata": {},
   "outputs": [],
   "source": [
    "# Your code here"
   ]
  },
  {
   "cell_type": "markdown",
   "metadata": {},
   "source": [
    "## Level Up: Display the names of each product each employee has sold."
   ]
  },
  {
   "cell_type": "code",
   "execution_count": null,
   "metadata": {},
   "outputs": [],
   "source": [
    "# Your code here"
   ]
  },
  {
   "cell_type": "markdown",
   "metadata": {},
   "source": [
    "## Level Up: Display the Number of Products each Employee Has sold"
   ]
  },
  {
   "cell_type": "code",
   "execution_count": null,
   "metadata": {},
   "outputs": [],
   "source": [
    "#Your code here"
   ]
  },
  {
   "cell_type": "markdown",
   "metadata": {},
   "source": [
    "## Summary"
   ]
  },
  {
   "cell_type": "markdown",
   "metadata": {},
   "source": [
    "Congrats! You now know how to use Join statements, along with leveraging your foreign keys knowledge!"
   ]
  }
 ],
 "metadata": {
  "kernelspec": {
   "display_name": "Python 3",
   "language": "python",
   "name": "python3"
  },
  "language_info": {
   "codemirror_mode": {
    "name": "ipython",
    "version": 3
   },
   "file_extension": ".py",
   "mimetype": "text/x-python",
   "name": "python",
   "nbconvert_exporter": "python",
   "pygments_lexer": "ipython3",
   "version": "3.6.6"
  }
 },
 "nbformat": 4,
 "nbformat_minor": 2
}
