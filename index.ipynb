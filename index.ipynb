{
 "cells": [
  {
   "cell_type": "markdown",
   "metadata": {},
   "source": [
    "# Join Statements - Lab\n",
    "\n",
    "## Introduction\n",
    "\n",
    "In this lab, you'll practice your knowledge on Join statements.\n",
    "\n",
    "## Objectives\n",
    "\n",
    "You will be able to:\n",
    "- Write queries that make use of various types of Joins\n",
    "- Join tables using foreign keys"
   ]
  },
  {
   "cell_type": "markdown",
   "metadata": {},
   "source": [
    "## CRM Schema\n",
    "\n",
    "In almost all cases, rather then just working with a single table we will typically need data from multiple tables. \n",
    "Doing this requires the use of **joins ** using shared columns from the two tables. \n",
    "\n",
    "In this lab, we'll use the same Customer Relationship Management (CRM) database we used in our lecture before!\n",
    "<img src='Database-Schema.png' width=550>"
   ]
  },
  {
   "cell_type": "markdown",
   "metadata": {},
   "source": [
    "## Connecting to the Database\n",
    "Import the necessary packages and connect to the database **data.sqlite**."
   ]
  },
  {
   "cell_type": "code",
   "execution_count": 1,
   "metadata": {},
   "outputs": [],
   "source": [
    "#Your code here\n",
    "import sqlite3\n",
    "connection = sqlite3.connect('data.sqlite')\n",
    "cursor = connection.cursor()"
   ]
  },
  {
   "cell_type": "markdown",
   "metadata": {},
   "source": [
    "## Display the names of all the employees in Boston."
   ]
  },
  {
   "cell_type": "code",
   "execution_count": 10,
   "metadata": {},
   "outputs": [
    {
     "data": {
      "text/plain": [
       "[('Julie', 'Firrelli'), ('Steve', 'Patterson')]"
      ]
     },
     "execution_count": 10,
     "metadata": {},
     "output_type": "execute_result"
    }
   ],
   "source": [
    "#Your code here\n",
    "cursor.execute('''\n",
    "                SELECT \n",
    "                    firstName, lastName \n",
    "                FROM employees \n",
    "                JOIN offices \n",
    "                ON employees.officeCode = offices.officeCode \n",
    "                WHERE offices.city = \"Boston\"'''\n",
    "              ).fetchall()"
   ]
  },
  {
   "cell_type": "markdown",
   "metadata": {},
   "source": [
    "## Do any offices have no employees?"
   ]
  },
  {
   "cell_type": "code",
   "execution_count": 14,
   "metadata": {},
   "outputs": [
    {
     "data": {
      "text/plain": [
       "[('Boston', 2),\n",
       " ('London', 2),\n",
       " ('NYC', 2),\n",
       " ('Paris', 5),\n",
       " ('San Francisco', 6),\n",
       " ('Sydney', 4),\n",
       " ('Tokyo', 2)]"
      ]
     },
     "execution_count": 14,
     "metadata": {},
     "output_type": "execute_result"
    }
   ],
   "source": [
    "cursor.execute('''\n",
    "                SELECT\n",
    "                    city, COUNT(*)\n",
    "                FROM offices \n",
    "                JOIN employees\n",
    "                USING (officeCode)\n",
    "                GROUP BY 1;''').fetchall()"
   ]
  },
  {
   "cell_type": "markdown",
   "metadata": {},
   "source": [
    "## Write 3 Questions of your own and answer them"
   ]
  },
  {
   "cell_type": "code",
   "execution_count": null,
   "metadata": {},
   "outputs": [],
   "source": [
    "# Answers will vary"
   ]
  },
  {
   "cell_type": "code",
   "execution_count": 18,
   "metadata": {},
   "outputs": [
    {
     "data": {
      "text/plain": [
       "[('Andy', 'Fixter', 5),\n",
       " ('Barry', 'Jones', 9),\n",
       " ('Foon Yue', 'Tseng', 7),\n",
       " ('George', 'Vanauf', 8),\n",
       " ('Gerard', 'Hernandez', 7),\n",
       " ('Julie', 'Firrelli', 6),\n",
       " ('Larry', 'Bott', 8),\n",
       " ('Leslie', 'Thompson', 12),\n",
       " ('Loui', 'Bondur', 6),\n",
       " ('Mami', 'Nishi', 5),\n",
       " ('Martin', 'Gerard', 6),\n",
       " ('Pamela', 'Castillo', 10),\n",
       " ('Peter', 'Marsh', 5),\n",
       " ('Steve', 'Patterson', 6)]"
      ]
     },
     "execution_count": 18,
     "metadata": {},
     "output_type": "execute_result"
    }
   ],
   "source": [
    "# Your code here\n",
    "#How many customers per employee?\n",
    "cursor.execute('''\n",
    "                SELECT\n",
    "                    firstName, lastName, count(*)\n",
    "                FROM\n",
    "                    employees\n",
    "                JOIN\n",
    "                    customers\n",
    "                ON employees.employeeNumber = salesRepEmployeeNumber\n",
    "                GROUP BY 1''').fetchall()"
   ]
  },
  {
   "cell_type": "code",
   "execution_count": 25,
   "metadata": {},
   "outputs": [
    {
     "data": {
      "text/plain": [
       "[('Mini Gifts Distributors Ltd.', 17), ('Euro+ Shopping Channel', 26)]"
      ]
     },
     "execution_count": 25,
     "metadata": {},
     "output_type": "execute_result"
    }
   ],
   "source": [
    "# Your code here\n",
    "#How many customers ordered more than 5 orders?\n",
    "cursor.execute('''\n",
    "                SELECT customerName, count(*)\n",
    "                FROM customers\n",
    "                JOIN orders\n",
    "                ON customers.customerNumber = orders.customerNumber\n",
    "                GROUP BY customers.customerNumber HAVING COUNT(*) > 5''').fetchall()"
   ]
  },
  {
   "cell_type": "code",
   "execution_count": 27,
   "metadata": {},
   "outputs": [
    {
     "data": {
      "text/plain": [
       "[('18th Century Vintage Horse Carriage', 1),\n",
       " ('18th century schooner', 1),\n",
       " ('1900s Vintage Bi-Plane', 1),\n",
       " ('1900s Vintage Tri-Plane', 1),\n",
       " ('1903 Ford Model A', 1),\n",
       " ('1904 Buick Runabout', 1),\n",
       " ('1911 Ford Town Car', 1),\n",
       " ('1912 Ford Model T Delivery Wagon', 1),\n",
       " ('1913 Ford Model T Speedster', 1),\n",
       " ('1917 Grand Touring Sedan', 1),\n",
       " ('1917 Maxwell Touring Car', 1),\n",
       " ('1926 Ford Fire Engine', 1),\n",
       " ('1928 British Royal Navy Airplane', 1),\n",
       " ('1928 Ford Phaeton Deluxe', 1),\n",
       " ('1928 Mercedes-Benz SSK', 1),\n",
       " ('1930 Buick Marquette Phaeton', 1),\n",
       " ('1932 Alfa Romeo 8C2300 Spider Sport', 1),\n",
       " ('1932 Model A Ford J-Coupe', 1),\n",
       " ('1934 Ford V8 Coupe', 1),\n",
       " ('1936 Chrysler Airflow', 1),\n",
       " ('1936 Harley Davidson El Knucklehead', 1),\n",
       " ('1936 Mercedes Benz 500k Roadster', 1),\n",
       " ('1936 Mercedes-Benz 500K Special Roadster', 1),\n",
       " ('1937 Horch 930V Limousine', 1),\n",
       " ('1937 Lincoln Berline', 1),\n",
       " ('1938 Cadillac V-16 Presidential Limousine', 1),\n",
       " ('1939 Cadillac Limousine', 1),\n",
       " ('1939 Chevrolet Deluxe Coupe', 1),\n",
       " ('1940 Ford Delivery Sedan', 1),\n",
       " ('1940 Ford Pickup Truck', 1),\n",
       " ('1940s Ford truck', 1),\n",
       " ('1941 Chevrolet Special Deluxe Cabriolet', 1),\n",
       " ('1948 Porsche 356-A Roadster', 1),\n",
       " ('1948 Porsche Type 356 Roadster', 1),\n",
       " ('1949 Jaguar XK 120', 1),\n",
       " (\"1950's Chicago Surface Lines Streetcar\", 1),\n",
       " ('1952 Alpine Renault 1300', 1),\n",
       " ('1952 Citroen-15CV', 1),\n",
       " ('1954 Greyhound Scenicruiser', 1),\n",
       " ('1956 Porsche 356A Coupe', 1),\n",
       " ('1957 Chevy Pickup', 1),\n",
       " ('1957 Corvette Convertible', 1),\n",
       " ('1957 Ford Thunderbird', 1),\n",
       " ('1957 Vespa GS150', 1),\n",
       " ('1958 Chevy Corvette Limited Edition', 1),\n",
       " ('1958 Setra Bus', 1),\n",
       " ('1960 BSA Gold Star DBD34', 1),\n",
       " ('1961 Chevrolet Impala', 1),\n",
       " ('1962 City of Detroit Streetcar', 1),\n",
       " ('1962 LanciaA Delta 16V', 1),\n",
       " ('1962 Volkswagen Microbus', 1),\n",
       " ('1964 Mercedes Tour Bus', 1),\n",
       " ('1965 Aston Martin DB5', 1),\n",
       " ('1966 Shelby Cobra 427 S/C', 1),\n",
       " ('1968 Dodge Charger', 1),\n",
       " ('1968 Ford Mustang', 1),\n",
       " ('1969 Chevrolet Camaro Z28', 1),\n",
       " ('1969 Corvair Monza', 1),\n",
       " ('1969 Dodge Charger', 1),\n",
       " ('1969 Dodge Super Bee', 1),\n",
       " ('1969 Ford Falcon', 1),\n",
       " ('1969 Harley Davidson Ultimate Chopper', 1),\n",
       " ('1970 Chevy Chevelle SS 454', 1),\n",
       " ('1970 Dodge Coronet', 1),\n",
       " ('1970 Plymouth Hemi Cuda', 1),\n",
       " ('1970 Triumph Spitfire', 1),\n",
       " ('1971 Alpine Renault 1600s', 1),\n",
       " ('1972 Alfa Romeo GTA', 1),\n",
       " ('1974 Ducati 350 Mk3 Desmo', 1),\n",
       " ('1976 Ford Gran Torino', 1),\n",
       " ('1980s Black Hawk Helicopter', 1),\n",
       " ('1980’s GM Manhattan Express', 1),\n",
       " ('1982 Camaro Z28', 1),\n",
       " ('1982 Ducati 900 Monster', 1),\n",
       " ('1982 Ducati 996 R', 1),\n",
       " ('1982 Lamborghini Diablo', 1),\n",
       " ('1985 Toyota Supra', 1),\n",
       " ('1992 Ferrari 360 Spider red', 1),\n",
       " ('1992 Porsche Cayenne Turbo Silver', 1),\n",
       " ('1993 Mazda RX-7', 1),\n",
       " ('1995 Honda Civic', 1),\n",
       " ('1996 Moto Guzzi 1100i', 1),\n",
       " ('1996 Peterbilt 379 Stake Bed with Outrigger', 1),\n",
       " ('1997 BMW F650 ST', 1),\n",
       " ('1997 BMW R 1100 S', 1),\n",
       " ('1998 Chrysler Plymouth Prowler', 1),\n",
       " ('1999 Indy 500 Monte Carlo SS', 1),\n",
       " ('1999 Yamaha Speed Boat', 1),\n",
       " ('2001 Ferrari Enzo', 1),\n",
       " ('2002 Chevy Corvette', 1),\n",
       " ('2002 Suzuki XREO', 1),\n",
       " ('2002 Yamaha YZR M1', 1),\n",
       " ('2003 Harley-Davidson Eagle Drag Bike', 1),\n",
       " ('ATA: B757-300', 1),\n",
       " ('America West Airlines B757-200', 1),\n",
       " ('American Airlines: B767-300', 1),\n",
       " ('American Airlines: MD-11S', 1),\n",
       " ('Boeing X-32A JSF', 1),\n",
       " ('Collectable Wooden Train', 1),\n",
       " ('Corsair F4U ( Bird Cage)', 1),\n",
       " ('Diamond T620 Semi-Skirted Tanker', 1),\n",
       " ('F/A 18 Hornet 1/72', 1),\n",
       " ('HMS Bounty', 1),\n",
       " ('P-51-D Mustang', 1),\n",
       " ('Pont Yacht', 1),\n",
       " ('The Mayflower', 1),\n",
       " ('The Queen Mary', 1),\n",
       " ('The Schooner Bluenose', 1),\n",
       " ('The Titanic', 1),\n",
       " ('The USS Constitution Ship', 1)]"
      ]
     },
     "execution_count": 27,
     "metadata": {},
     "output_type": "execute_result"
    }
   ],
   "source": [
    "# Your code here\n",
    "#Number of product lines in products\n",
    "cursor.execute('''\n",
    "                SELECT productName, count(*)\n",
    "                FROM products\n",
    "                JOIN productlines\n",
    "                ON products.productline = productlines.productline\n",
    "                GROUP BY 1''').fetchall()"
   ]
  },
  {
   "cell_type": "markdown",
   "metadata": {},
   "source": [
    "## Level Up: Display the names of each product each employee has sold."
   ]
  },
  {
   "cell_type": "code",
   "execution_count": null,
   "metadata": {},
   "outputs": [],
   "source": [
    "# Your code here\n"
   ]
  },
  {
   "cell_type": "markdown",
   "metadata": {},
   "source": [
    "## Level Up: Display the Number of Products each Employee Has sold"
   ]
  },
  {
   "cell_type": "code",
   "execution_count": null,
   "metadata": {},
   "outputs": [],
   "source": [
    "#Your code here"
   ]
  },
  {
   "cell_type": "markdown",
   "metadata": {},
   "source": [
    "## Summary"
   ]
  },
  {
   "cell_type": "markdown",
   "metadata": {},
   "source": [
    "Congrats! You now know how to use Join statements, along with leveraging your foreign keys knowledge!"
   ]
  }
 ],
 "metadata": {
  "kernelspec": {
   "display_name": "Python 3",
   "language": "python",
   "name": "python3"
  },
  "language_info": {
   "codemirror_mode": {
    "name": "ipython",
    "version": 3
   },
   "file_extension": ".py",
   "mimetype": "text/x-python",
   "name": "python",
   "nbconvert_exporter": "python",
   "pygments_lexer": "ipython3",
   "version": "3.6.6"
  }
 },
 "nbformat": 4,
 "nbformat_minor": 2
}
